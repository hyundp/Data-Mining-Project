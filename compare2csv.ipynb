{
 "cells": [
  {
   "cell_type": "code",
   "execution_count": 1,
   "metadata": {},
   "outputs": [],
   "source": [
    "import numpy as np\n",
    "import pandas as pd"
   ]
  },
  {
   "cell_type": "code",
   "execution_count": 19,
   "metadata": {},
   "outputs": [],
   "source": [
    "data1 = pd.read_csv('./result.csv')\n",
    "data2 = pd.read_csv('./result1.csv')\n",
    "data3 = pd.read_csv('./result2.csv')\n",
    "data4 = pd.read_csv('./result3.csv')"
   ]
  },
  {
   "cell_type": "code",
   "execution_count": 20,
   "metadata": {},
   "outputs": [],
   "source": [
    "data1_left = data1['left']\n",
    "data2_left = data2['left']\n",
    "data3_left = data3['left']\n",
    "data4_left = data4['left']"
   ]
  },
  {
   "cell_type": "code",
   "execution_count": 21,
   "metadata": {},
   "outputs": [],
   "source": [
    "data1_ID = data1['ID']\n",
    "data2_ID = data2['ID']\n",
    "data3_ID = data3['ID']\n",
    "data4_ID = data4['ID']"
   ]
  },
  {
   "cell_type": "code",
   "execution_count": 22,
   "metadata": {},
   "outputs": [
    {
     "name": "stdout",
     "output_type": "stream",
     "text": [
      "data1 -> id: 201922000: 1\n",
      "data2 -> id: 201922000: 0\n",
      "data3 -> id: 201922000: 0\n",
      "data4 -> id: 201922000: 0\n",
      "\n",
      "data1 -> id: 201922847: 0\n",
      "data2 -> id: 201922847: 0\n",
      "data3 -> id: 201922847: 1\n",
      "data4 -> id: 201922847: 0\n",
      "\n",
      "data1 -> id: 201924211: 1\n",
      "data2 -> id: 201924211: 0\n",
      "data3 -> id: 201924211: 0\n",
      "data4 -> id: 201924211: 0\n",
      "\n"
     ]
    }
   ],
   "source": [
    "for i in range(len(data1)):\n",
    "    if data1_left[i] == data2_left[i] and data2_left[i] == data3_left[i] and data1_left[i] == data3_left[i]:\n",
    "        continue\n",
    "    else:\n",
    "        print(f\"data1 -> id: {data1_ID[i]}: {data1_left[i]}\")\n",
    "        print(f\"data2 -> id: {data2_ID[i]}: {data2_left[i]}\")\n",
    "        print(f\"data3 -> id: {data3_ID[i]}: {data3_left[i]}\")\n",
    "        print(f\"data4 -> id: {data4_ID[i]}: {data4_left[i]}\")\n",
    "        print()"
   ]
  }
 ],
 "metadata": {
  "kernelspec": {
   "display_name": "Python 3.9.16 ('study3.6')",
   "language": "python",
   "name": "python3"
  },
  "language_info": {
   "codemirror_mode": {
    "name": "ipython",
    "version": 3
   },
   "file_extension": ".py",
   "mimetype": "text/x-python",
   "name": "python",
   "nbconvert_exporter": "python",
   "pygments_lexer": "ipython3",
   "version": "3.9.16"
  },
  "orig_nbformat": 4,
  "vscode": {
   "interpreter": {
    "hash": "d6589b6c45a51c447bada8cdfe51c86a8084a63f1686109933240fcc3d7a03ff"
   }
  }
 },
 "nbformat": 4,
 "nbformat_minor": 2
}
